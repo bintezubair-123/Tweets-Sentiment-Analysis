{
  "cells": [
    {
      "cell_type": "markdown",
      "metadata": {
        "id": "ix925otvIfP7"
      },
      "source": [
        "ROLL # : CS-21116 , CS -21118 , 21122\n"
      ]
    },
    {
      "cell_type": "markdown",
      "metadata": {
        "id": "0B3o2g4LH50w"
      },
      "source": [
        "# **TWEETS SENTIMENT ANALYSIS WITH LOGISTIC REGRESSION AND NAIVE** **BAYES**\n",
        "We will be implementing logistic regression  and Naive Bayes for sentiment analysis on tweets.Given a tweet we will decide if it has a positive or negative sentiment."
      ]
    },
    {
      "cell_type": "markdown",
      "metadata": {
        "id": "cRJMTSqfOgnI"
      },
      "source": [
        "## **TWITTER DATASET (DATA COLLECTION):**\n",
        "We will use a Twitter dataset that comes with NLTK. We will import them now as well as a few other libraries we will be using."
      ]
    },
    {
      "cell_type": "code",
      "execution_count": 6,
      "metadata": {
        "id": "iY9LeG0HPnej"
      },
      "outputs": [],
      "source": [
        "import nltk\n",
        "import numpy as np\n",
        "import pandas as pd\n",
        "import pdb\n",
        "from nltk.corpus import twitter_samples    # Twitter dataset from NLTK\n",
        "import matplotlib.pyplot as plt            # library for visualization\n",
        "import random                              # pseudo-random number generator"
      ]
    },
    {
      "cell_type": "code",
      "execution_count": 7,
      "metadata": {
        "colab": {
          "base_uri": "https://localhost:8080/"
        },
        "collapsed": true,
        "id": "p-3ACbgaQYw5",
        "outputId": "9ea3c6ea-3923-4f46-f90c-ba4443f86369"
      },
      "outputs": [
        {
          "name": "stderr",
          "output_type": "stream",
          "text": [
            "[nltk_data] Downloading package twitter_samples to /root/nltk_data...\n",
            "[nltk_data]   Unzipping corpora/twitter_samples.zip.\n"
          ]
        },
        {
          "data": {
            "text/plain": [
              "True"
            ]
          },
          "execution_count": 7,
          "metadata": {},
          "output_type": "execute_result"
        }
      ],
      "source": [
        "#download twitter dataset\n",
        "nltk.download('twitter_samples')"
      ]
    },
    {
      "cell_type": "markdown",
      "metadata": {
        "id": "AeRFu6Z5SlhG"
      },
      "source": [
        "We can load the text fields of the positive and negative tweets by using the module's strings() method like this:"
      ]
    },
    {
      "cell_type": "code",
      "execution_count": 8,
      "metadata": {
        "id": "zxn5sF0sSk8t"
      },
      "outputs": [],
      "source": [
        "# select the set of positive and negative tweets\n",
        "all_positive_tweets = twitter_samples.strings('positive_tweets.json')\n",
        "all_negative_tweets = twitter_samples.strings('negative_tweets.json')"
      ]
    },
    {
      "cell_type": "markdown",
      "metadata": {
        "id": "ASLWpzHnSsCJ"
      },
      "source": [
        "Next, we'll print a report with the number of positive and negative tweets."
      ]
    },
    {
      "cell_type": "code",
      "execution_count": 9,
      "metadata": {
        "colab": {
          "base_uri": "https://localhost:8080/"
        },
        "id": "dzShVMvPSuHW",
        "outputId": "b03c2581-56c8-4dd7-db9a-0ee7bd8d36fb"
      },
      "outputs": [
        {
          "name": "stdout",
          "output_type": "stream",
          "text": [
            "Number of positive tweets:  5000\n",
            "Number of negative tweets:  5000\n",
            "\n",
            "The type of all_positive_tweets is:  <class 'list'>\n",
            "The type of a tweet entry is:  <class 'str'>\n"
          ]
        }
      ],
      "source": [
        "print('Number of positive tweets: ', len(all_positive_tweets))\n",
        "print('Number of negative tweets: ', len(all_negative_tweets))\n",
        "\n",
        "print('\\nThe type of all_positive_tweets is: ', type(all_positive_tweets))\n",
        "print('The type of a tweet entry is: ', type(all_negative_tweets[0]))"
      ]
    },
    {
      "cell_type": "markdown",
      "metadata": {
        "id": "j3FsLX_uSwpx"
      },
      "source": [
        "We can see that the data is stored in a list and individual tweets are stored as strings.\n",
        "\n",
        "To make a  more visually appealing report we will use by using Matplotlib's pyplot library."
      ]
    },
    {
      "cell_type": "code",
      "execution_count": 10,
      "metadata": {
        "colab": {
          "base_uri": "https://localhost:8080/",
          "height": 422
        },
        "id": "0oWLMutqS2Y0",
        "outputId": "c690d7e5-308a-4e14-9a28-9a013c2e369b"
      },
      "outputs": [
        {
          "data": {
            "image/png": "[encoded data removed]",
            "text/plain": [
              "<Figure size 500x500 with 1 Axes>"
            ]
          },
          "metadata": {},
          "output_type": "display_data"
        }
      ],
      "source": [
        "# Declare a figure with a custom size\n",
        "fig = plt.figure(figsize=(5, 5))\n",
        "\n",
        "# labels for the two classes\n",
        "labels = 'Positives', 'Negative'\n",
        "\n",
        "# Sizes for each slide\n",
        "sizes = [len(all_positive_tweets), len(all_negative_tweets)]\n",
        "\n",
        "# Declare pie chart, where the slices will be ordered and plotted counter-clockwise:\n",
        "plt.pie(sizes, labels=labels, autopct='%1.1f%%',\n",
        "        shadow=True, startangle=90)\n",
        "\n",
        "# Equal aspect ratio ensures that pie is drawn as a circle.\n",
        "plt.axis('equal')\n",
        "\n",
        "# Display the chart\n",
        "plt.show()"
      ]
    },
    {
      "cell_type": "markdown",
      "metadata": {
        "id": "8xmoUx3-TGOx"
      },
      "source": [
        "Looking at raw texts\n",
        "Before anything else, we can print a couple of tweets from the dataset to see how they look.\n",
        "Below, we will print one random positive and one random negative tweet. We have added a color mark at the beginning of the string to further distinguish the two."
      ]
    },
    {
      "cell_type": "code",
      "execution_count": 11,
      "metadata": {
        "colab": {
          "base_uri": "https://localhost:8080/"
        },
        "id": "j21g4y1qS_jU",
        "outputId": "c49b24c4-094a-4133-f458-a2d19d5945b2"
      },
      "outputs": [
        {
          "name": "stdout",
          "output_type": "stream",
          "text": [
            "\u001b[92m@Bhoxzniall fback? :)\n",
            "\u001b[91m@badoeuf If going to stop breakfast early you might want to remove the 11am from your website. Even McD's doesn't pull that trick. :(\n"
          ]
        }
      ],
      "source": [
        "# print positive in greeen\n",
        "print('\\033[92m' + all_positive_tweets[random.randint(0,5000)])\n",
        "\n",
        "# print negative in red\n",
        "print('\\033[91m' + all_negative_tweets[random.randint(0,5000)])"
      ]
    },
    {
      "cell_type": "markdown",
      "metadata": {
        "id": "OxUc5W0wS_Br"
      },
      "source": [
        "One observation is that many of the tweets have emotional icons and URLs present.\n"
      ]
    },
    {
      "cell_type": "markdown",
      "metadata": {
        "id": "ZLB3wS0aTY7E"
      },
      "source": [
        "## **DATA PREPROCESSING**\n",
        "Remove noise: We will first remove noise from our data -- that is, remove words that don't tell you much about the content. These include all common words like 'I, you, are, is, etc...' that would not give us enough information on the sentiment.\n",
        "We'll also remove stock market tickers, retweet symbols, hyperlinks, and hashtags because they can not tell us a lot of information on the sentiment.\n",
        "We will also remove all the punctuation from a tweet. The reason for doing this is because we want to treat words with or without the punctuation as the same word, instead of treating \"happy\", \"happy?\", \"happy!\", \"happy,\" and \"happy.\" as different words.\n",
        "Finally we will use stemming to only keep track of one variation of each word. In other words, we'll treat \"motivation\", \"motivated\", and \"motivate\" similarly by grouping them within the same stem of \"motiv-\".\n",
        "\n",
        "Here the preprocessing steps are comprised of the following tasks:\n",
        "1.   Tokenizing the string\n",
        "2.   Lowercasing\n",
        "3.   Removing stop words and punctuation\n",
        "4.   Stemming\n"
      ]
    },
    {
      "cell_type": "code",
      "execution_count": 12,
      "metadata": {
        "colab": {
          "base_uri": "https://localhost:8080/"
        },
        "id": "1-RCNVasTsuI",
        "outputId": "f4a3cc46-6e2d-48c7-8c4c-79714dc53c6c"
      },
      "outputs": [
        {
          "name": "stdout",
          "output_type": "stream",
          "text": [
            "My beautiful sunflowers on a sunny Friday morning off :) #sunflowers #favourites #happy #Friday off… https://t.co/3tfYom0N1i\n"
          ]
        }
      ],
      "source": [
        "# Our selected example is complex enough to exemplify each step mentioned above.\n",
        "tweet = all_positive_tweets[2277]\n",
        "print(tweet)"
      ]
    },
    {
      "cell_type": "markdown",
      "metadata": {
        "id": "vWBdZMZxTwII"
      },
      "source": [
        "Let's import a few more libraries for this purpose."
      ]
    },
    {
      "cell_type": "code",
      "execution_count": 13,
      "metadata": {
        "colab": {
          "base_uri": "https://localhost:8080/"
        },
        "id": "DRVe4x-OTygF",
        "outputId": "6f619105-fc3d-41e3-e982-d2fe4bb052cc"
      },
      "outputs": [
        {
          "name": "stderr",
          "output_type": "stream",
          "text": [
            "[nltk_data] Downloading package stopwords to /root/nltk_data...\n",
            "[nltk_data]   Unzipping corpora/stopwords.zip.\n"
          ]
        }
      ],
      "source": [
        "# download the stopwords from NLTK\n",
        "nltk.download('stopwords')\n",
        "import re                                  # library for regular expression operations\n",
        "import string                              # for string operations\n",
        "\n",
        "from nltk.corpus import stopwords          # module for stop words that come with NLTK\n",
        "from nltk.stem import PorterStemmer        # module for stemming\n",
        "from nltk.tokenize import TweetTokenizer   # module for tokenizing strings"
      ]
    },
    {
      "cell_type": "markdown",
      "metadata": {
        "id": "Bqixxhb8T5dp"
      },
      "source": [
        "### **Remove hyperlinks, Twitter marks and styles**\n",
        "Since we have a Twitter dataset, we'd like to remove some substrings commonly used on the platform like the hashtag, retweet marks, and hyperlinks. We'll use the re library to perform regular expression operations on our tweet. We'll define our search pattern and use the sub() method to remove matches by substituting with an empty character (i.e. '')"
      ]
    },
    {
      "cell_type": "code",
      "execution_count": 14,
      "metadata": {
        "colab": {
          "base_uri": "https://localhost:8080/"
        },
        "id": "dwAAh7hTT6yN",
        "outputId": "ce803a2a-1304-4adb-bc24-0b91ede74017"
      },
      "outputs": [
        {
          "name": "stdout",
          "output_type": "stream",
          "text": [
            "\u001b[92mMy beautiful sunflowers on a sunny Friday morning off :) #sunflowers #favourites #happy #Friday off… https://t.co/3tfYom0N1i\n",
            "\u001b[94m\n",
            "My beautiful sunflowers on a sunny Friday morning off :) sunflowers favourites happy Friday off… \n"
          ]
        }
      ],
      "source": [
        "print('\\033[92m' + tweet)\n",
        "print('\\033[94m')\n",
        "\n",
        "# remove old style retweet text \"RT\"\n",
        "tweet2 = re.sub(r'^RT[\\s]+', '', tweet)\n",
        "\n",
        "# remove hyperlinks\n",
        "tweet2 = re.sub(r'https?:\\/\\/.*[\\r\\n]*', '', tweet2)\n",
        "\n",
        "# remove hashtags\n",
        "# only removing the hash # sign from the word\n",
        "tweet2 = re.sub(r'#', '', tweet2)\n",
        "\n",
        "print(tweet2)"
      ]
    },
    {
      "cell_type": "markdown",
      "metadata": {
        "id": "vnSTdQhDT-A_"
      },
      "source": [
        "### **Tokenize the string**\n",
        "To tokenize means to split the strings into individual words without blanks or tabs. In this same step, we will also convert each word in the string to lower case. The tokenize module from NLTK allows us to do these easily:"
      ]
    },
    {
      "cell_type": "code",
      "execution_count": 15,
      "metadata": {
        "colab": {
          "base_uri": "https://localhost:8080/"
        },
        "id": "SpRqYp2rUEyV",
        "outputId": "f9ccea4c-345a-4ec6-f977-ff8be4675d6d"
      },
      "outputs": [
        {
          "name": "stdout",
          "output_type": "stream",
          "text": [
            "\n",
            "\u001b[92mMy beautiful sunflowers on a sunny Friday morning off :) sunflowers favourites happy Friday off… \n",
            "\u001b[94m\n",
            "\n",
            "Tokenized string:\n",
            "['my', 'beautiful', 'sunflowers', 'on', 'a', 'sunny', 'friday', 'morning', 'off', ':)', 'sunflowers', 'favourites', 'happy', 'friday', 'off', '…']\n"
          ]
        }
      ],
      "source": [
        "print()\n",
        "print('\\033[92m' + tweet2)\n",
        "print('\\033[94m')\n",
        "\n",
        "# instantiate tokenizer class\n",
        "tokenizer = TweetTokenizer(preserve_case=False, strip_handles=True,\n",
        "                               reduce_len=True)\n",
        "\n",
        "# tokenize tweets\n",
        "tweet_tokens = tokenizer.tokenize(tweet2)\n",
        "\n",
        "print()\n",
        "print('Tokenized string:')\n",
        "print(tweet_tokens)"
      ]
    },
    {
      "cell_type": "markdown",
      "metadata": {
        "id": "1Kw3o9eGUC5H"
      },
      "source": [
        "### **Remove stop words and punctuations**\n",
        "The next step is to remove stop words and punctuation. Stop words are words that don't add significant meaning to the text. You'll see the list provided by NLTK when you run the cells below."
      ]
    },
    {
      "cell_type": "code",
      "execution_count": 17,
      "metadata": {
        "colab": {
          "base_uri": "https://localhost:8080/"
        },
        "id": "6Mw_peEKUBTp",
        "outputId": "c0dea328-6a4a-42ef-f96a-b4f8008f57f2"
      },
      "outputs": [
        {
          "name": "stdout",
          "output_type": "stream",
          "text": [
            "Stop words\n",
            "\n",
            "['i', 'me', 'my', 'myself', 'we', 'our', 'ours', 'ourselves', 'you', \"you're\", \"you've\", \"you'll\", \"you'd\", 'your', 'yours', 'yourself', 'yourselves', 'he', 'him', 'his', 'himself', 'she', \"she's\", 'her', 'hers', 'herself', 'it', \"it's\", 'its', 'itself', 'they', 'them', 'their', 'theirs', 'themselves', 'what', 'which', 'who', 'whom', 'this', 'that', \"that'll\", 'these', 'those', 'am', 'is', 'are', 'was', 'were', 'be', 'been', 'being', 'have', 'has', 'had', 'having', 'do', 'does', 'did', 'doing', 'a', 'an', 'the', 'and', 'but', 'if', 'or', 'because', 'as', 'until', 'while', 'of', 'at', 'by', 'for', 'with', 'about', 'against', 'between', 'into', 'through', 'during', 'before', 'after', 'above', 'below', 'to', 'from', 'up', 'down', 'in', 'out', 'on', 'off', 'over', 'under', 'again', 'further', 'then', 'once', 'here', 'there', 'when', 'where', 'why', 'how', 'all', 'any', 'both', 'each', 'few', 'more', 'most', 'other', 'some', 'such', 'no', 'nor', 'not', 'only', 'own', 'same', 'so', 'than', 'too', 'very', 's', 't', 'can', 'will', 'just', 'don', \"don't\", 'should', \"should've\", 'now', 'd', 'll', 'm', 'o', 're', 've', 'y', 'ain', 'aren', \"aren't\", 'couldn', \"couldn't\", 'didn', \"didn't\", 'doesn', \"doesn't\", 'hadn', \"hadn't\", 'hasn', \"hasn't\", 'haven', \"haven't\", 'isn', \"isn't\", 'ma', 'mightn', \"mightn't\", 'mustn', \"mustn't\", 'needn', \"needn't\", 'shan', \"shan't\", 'shouldn', \"shouldn't\", 'wasn', \"wasn't\", 'weren', \"weren't\", 'won', \"won't\", 'wouldn', \"wouldn't\"]\n",
            "\n",
            "Punctuation\n",
            "\n",
            "!\"#$%&'()*+,-./:;<=>?@[\\]^_`{|}~\n"
          ]
        }
      ],
      "source": [
        "#Import the english stop words list from NLTK\n",
        "stopwords_english = stopwords.words('english')\n",
        "\n",
        "print('Stop words\\n')\n",
        "print(stopwords_english)\n",
        "\n",
        "print('\\nPunctuation\\n')\n",
        "print(string.punctuation)"
      ]
    },
    {
      "cell_type": "markdown",
      "metadata": {
        "id": "Y1LHicKcUQr0"
      },
      "source": [
        "For the punctuation, we saw earlier that certain groupings like ':)' and '...' should be retained when dealing with tweets because they are used to express emotions. In other contexts, like medical analysis, these should also be removed.\n",
        "\n",
        "Time to clean up our tokenized tweet!\n"
      ]
    },
    {
      "cell_type": "code",
      "execution_count": 18,
      "metadata": {
        "colab": {
          "base_uri": "https://localhost:8080/"
        },
        "id": "OZiGUBO3UQOY",
        "outputId": "01998596-222a-4d80-f0a5-254a3abe2492"
      },
      "outputs": [
        {
          "name": "stdout",
          "output_type": "stream",
          "text": [
            "\n",
            "\u001b[92m\n",
            "['my', 'beautiful', 'sunflowers', 'on', 'a', 'sunny', 'friday', 'morning', 'off', ':)', 'sunflowers', 'favourites', 'happy', 'friday', 'off', '…']\n",
            "\u001b[94m\n",
            "removed stop words and punctuation:\n",
            "['beautiful', 'sunflowers', 'sunny', 'friday', 'morning', ':)', 'sunflowers', 'favourites', 'happy', 'friday', '…']\n"
          ]
        }
      ],
      "source": [
        "\n",
        "print()\n",
        "print('\\033[92m')\n",
        "print(tweet_tokens)\n",
        "print('\\033[94m')\n",
        "\n",
        "tweets_clean = []\n",
        "\n",
        "for word in tweet_tokens: # Go through every word in your tokens list\n",
        "    if (word not in stopwords_english and  # remove stopwords\n",
        "        word not in string.punctuation):  # remove punctuation\n",
        "        tweets_clean.append(word)\n",
        "\n",
        "print('removed stop words and punctuation:')\n",
        "print(tweets_clean)"
      ]
    },
    {
      "cell_type": "markdown",
      "metadata": {
        "id": "Im_dWngYUT8C"
      },
      "source": [
        "### **Stemming**\n",
        "Stemming is the process of converting a word to its most general form, or stem. This helps in reducing the size of our vocabulary.\n",
        "\n",
        "Consider the words:\n",
        "\n",
        "\n",
        "\n",
        "*   learn\n",
        "*   learning\n",
        "*   learned\n",
        "*   learnt\n",
        "\n",
        "\n",
        "\n",
        "All these words are stemmed from its common root learn. However, in some cases, the stemming process produces words that are not correct spellings of the root word. For example, happi and sunni. That's because it chooses the most common stem for related words. For example, we can look at the set of words that comprises the different forms of happy:\n",
        "\n",
        "*   happy\n",
        "*   happiness\n",
        "*   happier\n",
        "\n",
        "We can see that the prefix happi is more commonly used. We cannot choose happ because it is the stem of unrelated words like happen.\n",
        "\n",
        "NLTK has different modules for stemming and we will be using the PorterStemmer module which uses the Porter Stemming Algorithm. Let's see how we can use it in the cell below."
      ]
    },
    {
      "cell_type": "code",
      "execution_count": 19,
      "metadata": {
        "colab": {
          "base_uri": "https://localhost:8080/"
        },
        "id": "vwNcUKrAkGZ9",
        "outputId": "1b2d7a91-5c7c-47be-aa7f-fcf34c5d54a0"
      },
      "outputs": [
        {
          "name": "stdout",
          "output_type": "stream",
          "text": [
            "\n",
            "\u001b[92m\n",
            "['beautiful', 'sunflowers', 'sunny', 'friday', 'morning', ':)', 'sunflowers', 'favourites', 'happy', 'friday', '…']\n",
            "\u001b[94m\n",
            "stemmed words:\n",
            "['beauti', 'sunflow', 'sunni', 'friday', 'morn', ':)', 'sunflow', 'favourit', 'happi', 'friday', '…']\n"
          ]
        }
      ],
      "source": [
        "print()\n",
        "print('\\033[92m')\n",
        "print(tweets_clean)\n",
        "print('\\033[94m')\n",
        "\n",
        "# Instantiate stemming class\n",
        "stemmer = PorterStemmer()\n",
        "\n",
        "# Create an empty list to store the stems\n",
        "tweets_stem = []\n",
        "\n",
        "for word in tweets_clean:\n",
        "    stem_word = stemmer.stem(word)  # stemming word\n",
        "    tweets_stem.append(stem_word)  # append to the list\n",
        "\n",
        "print('stemmed words:')\n",
        "print(tweets_stem)"
      ]
    },
    {
      "cell_type": "markdown",
      "metadata": {
        "id": "F7OEqLYcUu0e"
      },
      "source": [
        "Now we have a set of words we can feed into to the next stage of our project.\n",
        "\n"
      ]
    },
    {
      "cell_type": "markdown",
      "metadata": {
        "id": "BKf9Djztc-BD"
      },
      "source": [
        "### **process_tweet()**\n",
        "As shown above, preprocessing consists of multiple steps before you arrive at the final list of words. We will now implement a function process_tweet(tweet) by which we will  obtain the same result as in the previous code cells,but it will be much easier to do as we will only need to call the function process_tweet()."
      ]
    },
    {
      "cell_type": "code",
      "execution_count": 20,
      "metadata": {
        "id": "2avt91-Ud9_b"
      },
      "outputs": [],
      "source": [
        "def process_tweet(tweet):\n",
        "    stemmer = PorterStemmer()\n",
        "    stopwords_english = stopwords.words('english')\n",
        "    # remove stock market tickers like $GE\n",
        "    tweet = re.sub(r'\\$\\w*', '', tweet)\n",
        "    # remove old style retweet text \"RT\"\n",
        "    tweet = re.sub(r'^RT[\\s]+', '', tweet)\n",
        "    # remove hyperlinks\n",
        "    tweet = re.sub(r'https?:\\/\\/.*[\\r\\n]*', '', tweet)\n",
        "    # remove hashtags\n",
        "    # only removing the hash # sign from the word\n",
        "    tweet = re.sub(r'#', '', tweet)\n",
        "    # tokenize tweets\n",
        "    tokenizer = TweetTokenizer(preserve_case=False, strip_handles=True,\n",
        "                               reduce_len=True)\n",
        "    tweet_tokens = tokenizer.tokenize(tweet)\n",
        "\n",
        "    tweets_clean = []\n",
        "    for word in tweet_tokens:\n",
        "        if (word not in stopwords_english and  # remove stopwords\n",
        "                word not in string.punctuation):  # remove punctuation\n",
        "            # tweets_clean.append(word)\n",
        "            stem_word = stemmer.stem(word)  # stemming word\n",
        "            tweets_clean.append(stem_word)\n",
        "\n",
        "    return tweets_clean\n",
        "\n",
        "\n"
      ]
    },
    {
      "cell_type": "code",
      "execution_count": 21,
      "metadata": {
        "colab": {
          "base_uri": "https://localhost:8080/"
        },
        "id": "YTHKjG2fU2Wy",
        "outputId": "db87c369-c7b0-4842-d608-4f1e38e746da"
      },
      "outputs": [
        {
          "name": "stdout",
          "output_type": "stream",
          "text": [
            "\n",
            "\u001b[92m\n",
            "My beautiful sunflowers on a sunny Friday morning off :) #sunflowers #favourites #happy #Friday off… https://t.co/3tfYom0N1i\n",
            "\u001b[94m\n",
            "preprocessed tweet:\n",
            "['beauti', 'sunflow', 'sunni', 'friday', 'morn', ':)', 'sunflow', 'favourit', 'happi', 'friday', '…']\n"
          ]
        }
      ],
      "source": [
        "# choosing the same tweet\n",
        "tweet = all_positive_tweets[2277]\n",
        "\n",
        "print()\n",
        "print('\\033[92m')\n",
        "print(tweet)\n",
        "print('\\033[94m')\n",
        "\n",
        "# calling the function\n",
        "tweets_stem = process_tweet(tweet); # Preprocess a given tweet\n",
        "\n",
        "print('preprocessed tweet:')\n",
        "print(tweets_stem) # Print the result"
      ]
    },
    {
      "cell_type": "markdown",
      "metadata": {
        "id": "hhayxbnHxO1z"
      },
      "source": [
        "## **FEATURE ENGINEERING**\n",
        "Given a list of tweets, we will extract relevant features and store them in a matrix. We will extract two features.\n",
        "*   The first feature is the number of positive words in a tweet.\n",
        "*   The second feature is the number of negative words in a tweet.\n"
      ]
    },
    {
      "cell_type": "markdown",
      "metadata": {
        "id": "9yAwRSGr4hHU"
      },
      "source": [
        "\n",
        "build_freqs(): this counts how often a word in the 'corpus' (the entire set of tweets) was associated with a positive label '1' or a negative label '0', then builds the freqs dictionary, where each key is a (word,label) tuple, and the value is the count of its frequency within the corpus of tweets.\n",
        "\n",
        "Input: tweets: a list of tweets ys: an m x 1 array with the sentiment label of each tweet (either 0 or 1)\n",
        "\n",
        "Output: freqs: a dictionary mapping each (word, sentiment) pair to its frequency"
      ]
    },
    {
      "cell_type": "code",
      "execution_count": 22,
      "metadata": {
        "id": "rOa0mAop4CXg"
      },
      "outputs": [],
      "source": [
        "def build_freqs(tweets, ys):\n",
        "    # Convert np array to list since zip needs an iterable.\n",
        "    # The squeeze is necessary or the list ends up with one element.\n",
        "    # Also note that this is just a NOP if ys is already a list.\n",
        "    yslist = np.squeeze(ys).tolist()\n",
        "\n",
        "    # Start with an empty dictionary and populate it by looping over all tweets\n",
        "    # and over all processed words in each tweet.\n",
        "    freqs = {}\n",
        "    for y, tweet in zip(yslist, tweets):\n",
        "        for word in process_tweet(tweet):\n",
        "            pair = (word, y)\n",
        "            if pair in freqs:\n",
        "                freqs[pair] += 1\n",
        "            else:\n",
        "                freqs[pair] = 1\n",
        "\n",
        "    return freqs\n"
      ]
    },
    {
      "cell_type": "markdown",
      "metadata": {
        "id": "siHumdp-4szN"
      },
      "source": [
        "### **Implementing the extract_features function.**\n",
        "*   This function takes in a single tweet.\n",
        "*   Process the tweet using the process_tweet() function and save the list of tweet words.\n",
        "*   Loop through each word in the list of processed words\n",
        "*   For each word, check the freqs dictionary for the count when that word has a positive '1' label.\n",
        "*   We Do the same for the count for when the word is associated with the negative label '0'."
      ]
    },
    {
      "cell_type": "code",
      "execution_count": 23,
      "metadata": {
        "id": "6pflglIj5pl5"
      },
      "outputs": [],
      "source": [
        "def extract_features(tweet, freqs):\n",
        "    # process_tweet tokenizes, stems, and removes stopwords\n",
        "    word_l = process_tweet(tweet)\n",
        "\n",
        "    # 3 elements in the form of a 1 x 3 vector\n",
        "    x = np.zeros((1, 3))\n",
        "\n",
        "    #bias term is set to 1\n",
        "    x[0,0] = 1\n",
        "    for word in word_l:\n",
        "\n",
        "        # increment the word count for the positive label 1\n",
        "        x[0,1] += freqs.get((word, 1.0), 0)\n",
        "\n",
        "        # increment the word count for the negative label 0\n",
        "        x[0,2] += freqs.get((word, 0.0), 0)\n",
        "    assert(x.shape == (1, 3))\n",
        "    return x"
      ]
    },
    {
      "cell_type": "code",
      "execution_count": 24,
      "metadata": {
        "id": "b2bQCUmqOkXQ"
      },
      "outputs": [],
      "source": [
        "tweets = all_positive_tweets + all_negative_tweets ## Concatenate the lists.\n",
        "labels = np.append(np.ones((len(all_positive_tweets),1)), np.zeros((len(all_negative_tweets),1)), axis = 0)"
      ]
    },
    {
      "cell_type": "code",
      "execution_count": 25,
      "metadata": {
        "colab": {
          "base_uri": "https://localhost:8080/"
        },
        "id": "bPpY6ENUPOH-",
        "outputId": "540f8904-d0d6-4b43-9409-3c5affb534d3"
      },
      "outputs": [
        {
          "name": "stdout",
          "output_type": "stream",
          "text": [
            "Number of tweets:  8000\n"
          ]
        }
      ],
      "source": [
        "#Train test split: 20% will be in the test set, and 80% in the training set.\n",
        "# spliting the data into two pieces, one for training and one for testing (validation set)\n",
        "test_pos = all_positive_tweets[4000:]\n",
        "train_pos = all_positive_tweets[:4000]\n",
        "test_neg = all_negative_tweets[4000:]\n",
        "train_neg = all_negative_tweets[:4000]\n",
        "train_x = train_pos + train_neg\n",
        "\n",
        "print(\"Number of tweets: \", len(train_x))\n",
        "test_x = test_pos + test_neg"
      ]
    },
    {
      "cell_type": "code",
      "execution_count": 26,
      "metadata": {
        "colab": {
          "base_uri": "https://localhost:8080/"
        },
        "id": "pYm13bJrPq4s",
        "outputId": "b1a0b29f-2d52-4cd9-80a1-5528ade1b82b"
      },
      "outputs": [
        {
          "name": "stdout",
          "output_type": "stream",
          "text": [
            "train_y.shape = (8000, 1)\n",
            "test_y.shape = (2000, 1)\n"
          ]
        }
      ],
      "source": [
        "# Creating the numpy array of positive labels and negative labels.\n",
        "# combining positive and negative labels\n",
        "train_y = np.append(np.ones((len(train_pos), 1)), np.zeros((len(train_neg), 1)), axis=0)\n",
        "test_y = np.append(np.ones((len(test_pos), 1)), np.zeros((len(test_neg), 1)), axis=0)\n",
        "# Printing the shape train and test sets\n",
        "print(\"train_y.shape = \" + str(train_y.shape))\n",
        "print(\"test_y.shape = \" + str(test_y.shape))"
      ]
    },
    {
      "cell_type": "code",
      "execution_count": 27,
      "metadata": {
        "colab": {
          "base_uri": "https://localhost:8080/"
        },
        "id": "D0EIZB0wOD8Z",
        "outputId": "0ea61d33-b4c5-467c-bc64-f71b6091f8ee"
      },
      "outputs": [
        {
          "name": "stdout",
          "output_type": "stream",
          "text": [
            "[[1.00e+00 3.02e+03 6.10e+01]]\n"
          ]
        }
      ],
      "source": [
        "# creating frequency dictionary\n",
        "freqs = build_freqs(train_x, train_y)\n",
        "# testing on training data\n",
        "tmp1 = extract_features(train_x[0], freqs)\n",
        "print(tmp1)\n"
      ]
    },
    {
      "cell_type": "markdown",
      "metadata": {
        "id": "4d2cQQW2BVxV"
      },
      "source": [
        "## **EXPLORATORY DATA ANALYSIS**\n",
        "Ploting tweets in a scatter plot using their positive and negative sums."
      ]
    },
    {
      "cell_type": "code",
      "execution_count": 28,
      "metadata": {
        "colab": {
          "base_uri": "https://localhost:8080/"
        },
        "id": "oTqUIeHNP3in",
        "outputId": "43f654a6-1c57-4dbd-a1d3-cf7ed2076930"
      },
      "outputs": [
        {
          "data": {
            "text/plain": [
              "(8000, 3)"
            ]
          },
          "execution_count": 28,
          "metadata": {},
          "output_type": "execute_result"
        }
      ],
      "source": [
        "#loading data\n",
        "\n",
        "data= np.zeros((len(train_x), 3))\n",
        "for i in range(len(train_x)):\n",
        "    data[i, :]= extract_features(train_x[i], freqs)\n",
        "#print(data)\n",
        "data.shape"
      ]
    },
    {
      "cell_type": "code",
      "execution_count": 29,
      "metadata": {
        "colab": {
          "base_uri": "https://localhost:8080/"
        },
        "id": "IjgP_gjdZGeF",
        "outputId": "b37b620f-1e10-4d69-a9cb-9aef7db7f66d"
      },
      "outputs": [
        {
          "name": "stdout",
          "output_type": "stream",
          "text": [
            "   bias  positive  negative  sentiment\n",
            "0   1.0    3020.0      61.0        1.0\n",
            "1   1.0    3573.0     444.0        1.0\n",
            "2   1.0    3005.0     115.0        1.0\n",
            "3   1.0    2862.0       4.0        1.0\n",
            "4   1.0    3119.0     225.0        1.0\n",
            "      bias  positive  negative  sentiment\n",
            "7990   1.0     500.0     482.0        0.0\n",
            "7991   1.0     919.0    4595.0        0.0\n",
            "7992   1.0     119.0     138.0        0.0\n",
            "7993   1.0     252.0    4043.0        0.0\n",
            "7994   1.0      31.0    3959.0        0.0\n",
            "7995   1.0      29.0    3706.0        0.0\n",
            "7996   1.0      62.0     323.0        0.0\n",
            "7997   1.0     144.0     783.0        0.0\n",
            "7998   1.0     205.0    3890.0        0.0\n",
            "7999   1.0     189.0    3974.0        0.0\n"
          ]
        }
      ],
      "source": [
        "#for visualizing\n",
        "# Creating label column\n",
        "label = np.concatenate((np.ones((4000, 1)), np.zeros((4000, 1))), axis=0)\n",
        "# Concatenate data with label column\n",
        "data_with_bias = np.concatenate((data, label), axis=1)\n",
        "# Convert to pandas DataFrame\n",
        "df = pd.DataFrame(data_with_bias, columns=['bias','positive', 'negative', 'sentiment'])\n",
        "\n",
        "# Display the DataFrame\n",
        "print(df.head())\n",
        "print(df.tail(10))\n"
      ]
    },
    {
      "cell_type": "code",
      "execution_count": 30,
      "metadata": {
        "colab": {
          "base_uri": "https://localhost:8080/",
          "height": 300
        },
        "id": "oAFnGhHtp37C",
        "outputId": "6cd3f56f-caef-4656-c916-d95cb3aa4da6"
      },
      "outputs": [
        {
          "data": {
            "application/vnd.google.colaboratory.intrinsic+json": {
              "summary": "{\n  \"name\": \"df\",\n  \"rows\": 8,\n  \"fields\": [\n    {\n      \"column\": \"bias\",\n      \"properties\": {\n        \"dtype\": \"number\",\n        \"std\": 2828.12410063127,\n        \"min\": 0.0,\n        \"max\": 8000.0,\n        \"num_unique_values\": 3,\n        \"samples\": [\n          8000.0,\n          1.0,\n          0.0\n        ],\n        \"semantic_type\": \"\",\n        \"description\": \"\"\n      }\n    },\n    {\n      \"column\": \"positive\",\n      \"properties\": {\n        \"dtype\": \"number\",\n        \"std\": 7791.597781793285,\n        \"min\": 0.0,\n        \"max\": 22847.0,\n        \"num_unique_values\": 8,\n        \"samples\": [\n          1345.245,\n          531.0,\n          8000.0\n        ],\n        \"semantic_type\": \"\",\n        \"description\": \"\"\n      }\n    },\n    {\n      \"column\": \"negative\",\n      \"properties\": {\n        \"dtype\": \"number\",\n        \"std\": 7491.413668446417,\n        \"min\": 0.0,\n        \"max\": 22217.0,\n        \"num_unique_values\": 8,\n        \"samples\": [\n          1941.19275,\n          578.5,\n          8000.0\n        ],\n        \"semantic_type\": \"\",\n        \"description\": \"\"\n      }\n    },\n    {\n      \"column\": \"sentiment\",\n      \"properties\": {\n        \"dtype\": \"number\",\n        \"std\": 2828.250371727774,\n        \"min\": 0.0,\n        \"max\": 8000.0,\n        \"num_unique_values\": 5,\n        \"samples\": [\n          0.5,\n          1.0,\n          0.5000312529299927\n        ],\n        \"semantic_type\": \"\",\n        \"description\": \"\"\n      }\n    }\n  ]\n}",
              "type": "dataframe"
            },
            "text/html": [
              "\n",
              "  <div id=\"df-c91a6698-2f8e-4443-9a64-9f59f6e64a9a\" class=\"colab-df-container\">\n",
              "    <div>\n",
              "<style scoped>\n",
              "    .dataframe tbody tr th:only-of-type {\n",
              "        vertical-align: middle;\n",
              "    }\n",
              "\n",
              "    .dataframe tbody tr th {\n",
              "        vertical-align: top;\n",
              "    }\n",
              "\n",
              "    .dataframe thead th {\n",
              "        text-align: right;\n",
              "    }\n",
              "</style>\n",
              "<table border=\"1\" class=\"dataframe\">\n",
              "  <thead>\n",
              "    <tr style=\"text-align: right;\">\n",
              "      <th></th>\n",
              "      <th>bias</th>\n",
              "      <th>positive</th>\n",
              "      <th>negative</th>\n",
              "      <th>sentiment</th>\n",
              "    </tr>\n",
              "  </thead>\n",
              "  <tbody>\n",
              "    <tr>\n",
              "      <th>count</th>\n",
              "      <td>8000.0</td>\n",
              "      <td>8000.000000</td>\n",
              "      <td>8000.00000</td>\n",
              "      <td>8000.000000</td>\n",
              "    </tr>\n",
              "    <tr>\n",
              "      <th>mean</th>\n",
              "      <td>1.0</td>\n",
              "      <td>1345.245000</td>\n",
              "      <td>1941.19275</td>\n",
              "      <td>0.500000</td>\n",
              "    </tr>\n",
              "    <tr>\n",
              "      <th>std</th>\n",
              "      <td>0.0</td>\n",
              "      <td>1543.201222</td>\n",
              "      <td>2043.90505</td>\n",
              "      <td>0.500031</td>\n",
              "    </tr>\n",
              "    <tr>\n",
              "      <th>min</th>\n",
              "      <td>1.0</td>\n",
              "      <td>0.000000</td>\n",
              "      <td>0.00000</td>\n",
              "      <td>0.000000</td>\n",
              "    </tr>\n",
              "    <tr>\n",
              "      <th>25%</th>\n",
              "      <td>1.0</td>\n",
              "      <td>118.000000</td>\n",
              "      <td>143.00000</td>\n",
              "      <td>0.000000</td>\n",
              "    </tr>\n",
              "    <tr>\n",
              "      <th>50%</th>\n",
              "      <td>1.0</td>\n",
              "      <td>531.000000</td>\n",
              "      <td>578.50000</td>\n",
              "      <td>0.500000</td>\n",
              "    </tr>\n",
              "    <tr>\n",
              "      <th>75%</th>\n",
              "      <td>1.0</td>\n",
              "      <td>2944.000000</td>\n",
              "      <td>3823.00000</td>\n",
              "      <td>1.000000</td>\n",
              "    </tr>\n",
              "    <tr>\n",
              "      <th>max</th>\n",
              "      <td>1.0</td>\n",
              "      <td>22847.000000</td>\n",
              "      <td>22217.00000</td>\n",
              "      <td>1.000000</td>\n",
              "    </tr>\n",
              "  </tbody>\n",
              "</table>\n",
              "</div>\n",
              "    <div class=\"colab-df-buttons\">\n",
              "\n",
              "  <div class=\"colab-df-container\">\n",
              "    <button class=\"colab-df-convert\" onclick=\"convertToInteractive('df-c91a6698-2f8e-4443-9a64-9f59f6e64a9a')\"\n",
              "            title=\"Convert this dataframe to an interactive table.\"\n",
              "            style=\"display:none;\">\n",
              "\n",
              "  <svg xmlns=\"http://www.w3.org/2000/svg\" height=\"24px\" viewBox=\"0 -960 960 960\">\n",
              "    <path d=\"M120-120v-720h720v720H120Zm60-500h600v-160H180v160Zm220 220h160v-160H400v160Zm0 220h160v-160H400v160ZM180-400h160v-160H180v160Zm440 0h160v-160H620v160ZM180-180h160v-160H180v160Zm440 0h160v-160H620v160Z\"/>\n",
              "  </svg>\n",
              "    </button>\n",
              "\n",
              "  <style>\n",
              "    .colab-df-container {\n",
              "      display:flex;\n",
              "      gap: 12px;\n",
              "    }\n",
              "\n",
              "    .colab-df-convert {\n",
              "      background-color: #E8F0FE;\n",
              "      border: none;\n",
              "      border-radius: 50%;\n",
              "      cursor: pointer;\n",
              "      display: none;\n",
              "      fill: #1967D2;\n",
              "      height: 32px;\n",
              "      padding: 0 0 0 0;\n",
              "      width: 32px;\n",
              "    }\n",
              "\n",
              "    .colab-df-convert:hover {\n",
              "      background-color: #E2EBFA;\n",
              "      box-shadow: 0px 1px 2px rgba(60, 64, 67, 0.3), 0px 1px 3px 1px rgba(60, 64, 67, 0.15);\n",
              "      fill: #174EA6;\n",
              "    }\n",
              "\n",
              "    .colab-df-buttons div {\n",
              "      margin-bottom: 4px;\n",
              "    }\n",
              "\n",
              "    [theme=dark] .colab-df-convert {\n",
              "      background-color: #3B4455;\n",
              "      fill: #D2E3FC;\n",
              "    }\n",
              "\n",
              "    [theme=dark] .colab-df-convert:hover {\n",
              "      background-color: #434B5C;\n",
              "      box-shadow: 0px 1px 3px 1px rgba(0, 0, 0, 0.15);\n",
              "      filter: drop-shadow(0px 1px 2px rgba(0, 0, 0, 0.3));\n",
              "      fill: #FFFFFF;\n",
              "    }\n",
              "  </style>\n",
              "\n",
              "    <script>\n",
              "      const buttonEl =\n",
              "        document.querySelector('#df-c91a6698-2f8e-4443-9a64-9f59f6e64a9a button.colab-df-convert');\n",
              "      buttonEl.style.display =\n",
              "        google.colab.kernel.accessAllowed ? 'block' : 'none';\n",
              "\n",
              "      async function convertToInteractive(key) {\n",
              "        const element = document.querySelector('#df-c91a6698-2f8e-4443-9a64-9f59f6e64a9a');\n",
              "        const dataTable =\n",
              "          await google.colab.kernel.invokeFunction('convertToInteractive',\n",
              "                                                    [key], {});\n",
              "        if (!dataTable) return;\n",
              "\n",
              "        const docLinkHtml = 'Like what you see? Visit the ' +\n",
              "          '<a target=\"_blank\" href=https://colab.research.google.com/notebooks/data_table.ipynb>data table notebook</a>'\n",
              "          + ' to learn more about interactive tables.';\n",
              "        element.innerHTML = '';\n",
              "        dataTable['output_type'] = 'display_data';\n",
              "        await google.colab.output.renderOutput(dataTable, element);\n",
              "        const docLink = document.createElement('div');\n",
              "        docLink.innerHTML = docLinkHtml;\n",
              "        element.appendChild(docLink);\n",
              "      }\n",
              "    </script>\n",
              "  </div>\n",
              "\n",
              "\n",
              "<div id=\"df-fdaaa4f5-3ed8-4bb0-8b4e-2e4e3595a3b7\">\n",
              "  <button class=\"colab-df-quickchart\" onclick=\"quickchart('df-fdaaa4f5-3ed8-4bb0-8b4e-2e4e3595a3b7')\"\n",
              "            title=\"Suggest charts\"\n",
              "            style=\"display:none;\">\n",
              "\n",
              "<svg xmlns=\"http://www.w3.org/2000/svg\" height=\"24px\"viewBox=\"0 0 24 24\"\n",
              "     width=\"24px\">\n",
              "    <g>\n",
              "        <path d=\"M19 3H5c-1.1 0-2 .9-2 2v14c0 1.1.9 2 2 2h14c1.1 0 2-.9 2-2V5c0-1.1-.9-2-2-2zM9 17H7v-7h2v7zm4 0h-2V7h2v10zm4 0h-2v-4h2v4z\"/>\n",
              "    </g>\n",
              "</svg>\n",
              "  </button>\n",
              "\n",
              "<style>\n",
              "  .colab-df-quickchart {\n",
              "      --bg-color: #E8F0FE;\n",
              "      --fill-color: #1967D2;\n",
              "      --hover-bg-color: #E2EBFA;\n",
              "      --hover-fill-color: #174EA6;\n",
              "      --disabled-fill-color: #AAA;\n",
              "      --disabled-bg-color: #DDD;\n",
              "  }\n",
              "\n",
              "  [theme=dark] .colab-df-quickchart {\n",
              "      --bg-color: #3B4455;\n",
              "      --fill-color: #D2E3FC;\n",
              "      --hover-bg-color: #434B5C;\n",
              "      --hover-fill-color: #FFFFFF;\n",
              "      --disabled-bg-color: #3B4455;\n",
              "      --disabled-fill-color: #666;\n",
              "  }\n",
              "\n",
              "  .colab-df-quickchart {\n",
              "    background-color: var(--bg-color);\n",
              "    border: none;\n",
              "    border-radius: 50%;\n",
              "    cursor: pointer;\n",
              "    display: none;\n",
              "    fill: var(--fill-color);\n",
              "    height: 32px;\n",
              "    padding: 0;\n",
              "    width: 32px;\n",
              "  }\n",
              "\n",
              "  .colab-df-quickchart:hover {\n",
              "    background-color: var(--hover-bg-color);\n",
              "    box-shadow: 0 1px 2px rgba(60, 64, 67, 0.3), 0 1px 3px 1px rgba(60, 64, 67, 0.15);\n",
              "    fill: var(--button-hover-fill-color);\n",
              "  }\n",
              "\n",
              "  .colab-df-quickchart-complete:disabled,\n",
              "  .colab-df-quickchart-complete:disabled:hover {\n",
              "    background-color: var(--disabled-bg-color);\n",
              "    fill: var(--disabled-fill-color);\n",
              "    box-shadow: none;\n",
              "  }\n",
              "\n",
              "  .colab-df-spinner {\n",
              "    border: 2px solid var(--fill-color);\n",
              "    border-color: transparent;\n",
              "    border-bottom-color: var(--fill-color);\n",
              "    animation:\n",
              "      spin 1s steps(1) infinite;\n",
              "  }\n",
              "\n",
              "  @keyframes spin {\n",
              "    0% {\n",
              "      border-color: transparent;\n",
              "      border-bottom-color: var(--fill-color);\n",
              "      border-left-color: var(--fill-color);\n",
              "    }\n",
              "    20% {\n",
              "      border-color: transparent;\n",
              "      border-left-color: var(--fill-color);\n",
              "      border-top-color: var(--fill-color);\n",
              "    }\n",
              "    30% {\n",
              "      border-color: transparent;\n",
              "      border-left-color: var(--fill-color);\n",
              "      border-top-color: var(--fill-color);\n",
              "      border-right-color: var(--fill-color);\n",
              "    }\n",
              "    40% {\n",
              "      border-color: transparent;\n",
              "      border-right-color: var(--fill-color);\n",
              "      border-top-color: var(--fill-color);\n",
              "    }\n",
              "    60% {\n",
              "      border-color: transparent;\n",
              "      border-right-color: var(--fill-color);\n",
              "    }\n",
              "    80% {\n",
              "      border-color: transparent;\n",
              "      border-right-color: var(--fill-color);\n",
              "      border-bottom-color: var(--fill-color);\n",
              "    }\n",
              "    90% {\n",
              "      border-color: transparent;\n",
              "      border-bottom-color: var(--fill-color);\n",
              "    }\n",
              "  }\n",
              "</style>\n",
              "\n",
              "  <script>\n",
              "    async function quickchart(key) {\n",
              "      const quickchartButtonEl =\n",
              "        document.querySelector('#' + key + ' button');\n",
              "      quickchartButtonEl.disabled = true;  // To prevent multiple clicks.\n",
              "      quickchartButtonEl.classList.add('colab-df-spinner');\n",
              "      try {\n",
              "        const charts = await google.colab.kernel.invokeFunction(\n",
              "            'suggestCharts', [key], {});\n",
              "      } catch (error) {\n",
              "        console.error('Error during call to suggestCharts:', error);\n",
              "      }\n",
              "      quickchartButtonEl.classList.remove('colab-df-spinner');\n",
              "      quickchartButtonEl.classList.add('colab-df-quickchart-complete');\n",
              "    }\n",
              "    (() => {\n",
              "      let quickchartButtonEl =\n",
              "        document.querySelector('#df-fdaaa4f5-3ed8-4bb0-8b4e-2e4e3595a3b7 button');\n",
              "      quickchartButtonEl.style.display =\n",
              "        google.colab.kernel.accessAllowed ? 'block' : 'none';\n",
              "    })();\n",
              "  </script>\n",
              "</div>\n",
              "\n",
              "    </div>\n",
              "  </div>\n"
            ],
            "text/plain": [
              "         bias      positive     negative    sentiment\n",
              "count  8000.0   8000.000000   8000.00000  8000.000000\n",
              "mean      1.0   1345.245000   1941.19275     0.500000\n",
              "std       0.0   1543.201222   2043.90505     0.500031\n",
              "min       1.0      0.000000      0.00000     0.000000\n",
              "25%       1.0    118.000000    143.00000     0.000000\n",
              "50%       1.0    531.000000    578.50000     0.500000\n",
              "75%       1.0   2944.000000   3823.00000     1.000000\n",
              "max       1.0  22847.000000  22217.00000     1.000000"
            ]
          },
          "execution_count": 30,
          "metadata": {},
          "output_type": "execute_result"
        }
      ],
      "source": [
        "df.describe()"
      ]
    },
    {
      "cell_type": "code",
      "execution_count": 31,
      "metadata": {
        "colab": {
          "base_uri": "https://localhost:8080/"
        },
        "id": "iAM7tOgNqF3d",
        "outputId": "0ecb10b1-1c60-4b8b-a655-cde8ad895e2a"
      },
      "outputs": [
        {
          "name": "stdout",
          "output_type": "stream",
          "text": [
            "bias            1\n",
            "positive     1920\n",
            "negative     1672\n",
            "sentiment       2\n",
            "dtype: int64\n"
          ]
        }
      ],
      "source": [
        "unique_counts = df.nunique()\n",
        "\n",
        "print(unique_counts)"
      ]
    },
    {
      "cell_type": "code",
      "execution_count": 32,
      "metadata": {
        "colab": {
          "base_uri": "https://localhost:8080/"
        },
        "id": "_peKRS2-qKoC",
        "outputId": "2ac8330e-b038-4b71-fe07-986b3db958e0"
      },
      "outputs": [
        {
          "name": "stdout",
          "output_type": "stream",
          "text": [
            "Column   bias   uniquevalue are : 1\n",
            "[1.]\n",
            "------------------------------------------------------------------\n",
            "Column   positive   uniquevalue are : 1920\n",
            "[3020. 3573. 3005. ... 1495.  450.  433.]\n",
            "------------------------------------------------------------------\n",
            "Column   negative   uniquevalue are : 1672\n",
            "[  61.  444.  115. ... 4648. 4330.  783.]\n",
            "------------------------------------------------------------------\n",
            "Column   sentiment   uniquevalue are : 2\n",
            "[1. 0.]\n",
            "------------------------------------------------------------------\n"
          ]
        }
      ],
      "source": [
        "for column in df:\n",
        "        print(\"Column\",\" \",column,\"  uniquevalue are :\", df[column].nunique())\n",
        "        print(df[column].unique())\n",
        "        print(\"------------------------------------------------------------------\")\n"
      ]
    },
    {
      "cell_type": "code",
      "execution_count": 33,
      "metadata": {
        "colab": {
          "base_uri": "https://localhost:8080/",
          "height": 542
        },
        "id": "sQwTnBYbqcMd",
        "outputId": "53062f93-542d-4a16-a122-3689b0b29c32"
      },
      "outputs": [
        {
          "data": {
            "image/png": "[encoded data removed]",
            "text/plain": [
              "<Figure size 1000x600 with 1 Axes>"
            ]
          },
          "metadata": {},
          "output_type": "display_data"
        }
      ],
      "source": [
        "import matplotlib.pyplot as plt\n",
        "import seaborn as sns\n",
        "plt.figure(figsize=(10, 6))\n",
        "sns.countplot(x=\"bias\", data=df)\n",
        "plt.show()"
      ]
    },
    {
      "cell_type": "code",
      "execution_count": 34,
      "metadata": {
        "colab": {
          "base_uri": "https://localhost:8080/",
          "height": 542
        },
        "id": "l6FD-5berBBh",
        "outputId": "1d626ec9-4711-4e3e-90fc-9cdc16cd2e5c"
      },
      "outputs": [
        {
          "data": {
            "image/png": "[encoded data removed]",
            "text/plain": [
              "<Figure size 1000x600 with 1 Axes>"
            ]
          },
          "metadata": {},
          "output_type": "display_data"
        }
      ],
      "source": [
        "plt.figure(figsize=(10, 6))\n",
        "sns.countplot(x=\"positive\", data=df)\n",
        "plt.show()"
      ]
    },
    {
      "cell_type": "code",
      "execution_count": 35,
      "metadata": {
        "colab": {
          "base_uri": "https://localhost:8080/",
          "height": 544
        },
        "id": "bZa9QTd9rIv2",
        "outputId": "883a7b4b-17f6-451e-9178-4e0bcaad6be1"
      },
      "outputs": [
        {
          "data": {
            "image/png": "[encoded data removed]",
            "text/plain": [
              "<Figure size 1000x600 with 1 Axes>"
            ]
          },
          "metadata": {},
          "output_type": "display_data"
        }
      ],
      "source": [
        "plt.figure(figsize=(10, 6))\n",
        "sns.countplot(x=\"negative\", data=df)\n",
        "plt.show()"
      ]
    },
    {
      "cell_type": "code",
      "execution_count": 36,
      "metadata": {
        "colab": {
          "base_uri": "https://localhost:8080/",
          "height": 699
        },
        "id": "fTulINKPtGPv",
        "outputId": "3aab13a4-a9cf-4d02-bd4e-10fe20efa7ec"
      },
      "outputs": [
        {
          "data": {
            "image/png": "[encoded data removed]",
            "text/plain": [
              "<Figure size 1000x800 with 2 Axes>"
            ]
          },
          "metadata": {},
          "output_type": "display_data"
        }
      ],
      "source": [
        "# Correlation matrix\n",
        "correlation_matrix = df.corr()\n",
        "plt.figure(figsize=(10, 8))\n",
        "sns.heatmap(correlation_matrix, annot=True, cmap='coolwarm', fmt=\".2f\")\n",
        "plt.title('Correlation Matrix')\n",
        "plt.show()"
      ]
    },
    {
      "cell_type": "code",
      "execution_count": 37,
      "metadata": {
        "id": "9QFl4pKDauAv"
      },
      "outputs": [],
      "source": [
        "# Each feature is labeled as bias, positive and negative\n",
        "X = df[['bias', 'positive', 'negative']].values # Get only the numerical values of the dataframe\n",
        "Y = df['sentiment'].values; # Put in Y the corresponding labels or sentiments\n",
        "\n",
        "#print(X.shape) # Print the shape of the X part\n",
        "#print(X) # Print some rows of X"
      ]
    },
    {
      "cell_type": "markdown",
      "metadata": {
        "id": "c6tjzsl-bhlj"
      },
      "source": [
        "### **Plot the samples in a scatter plot**"
      ]
    },
    {
      "cell_type": "code",
      "execution_count": 38,
      "metadata": {
        "colab": {
          "base_uri": "https://localhost:8080/",
          "height": 713
        },
        "id": "nXRpXsUCbSGT",
        "outputId": "96f60948-d61d-46ff-bd89-5083585ad514"
      },
      "outputs": [
        {
          "data": {
            "text/plain": [
              "Text(0, 0.5, 'Negative')"
            ]
          },
          "execution_count": 38,
          "metadata": {},
          "output_type": "execute_result"
        },
        {
          "data": {
            "image/png": "[encoded data removed]",
            "text/plain": [
              "<Figure size 800x800 with 1 Axes>"
            ]
          },
          "metadata": {},
          "output_type": "display_data"
        }
      ],
      "source": [
        "# Plot the samples using columns 1 and 2 of the matrix\n",
        "fig, ax = plt.subplots(figsize = (8, 8))\n",
        "\n",
        "colors = ['red', 'green']\n",
        "\n",
        "# Color based on the sentiment Y\n",
        "ax.scatter(X[:,1], X[:,2], c=[colors[int(k)] for k in Y], s = 0.1)  # Plot a dot for each pair of words\n",
        "plt.xlabel(\"Positive\")\n",
        "plt.ylabel(\"Negative\")"
      ]
    },
    {
      "cell_type": "markdown",
      "metadata": {
        "id": "Po3FDiSsw7tV"
      },
      "source": [
        "# **LOGISTIC REGRESSION FOR SENTIMENT ANALYSIS**\n",
        "### **MODEL BUILDING**"
      ]
    },
    {
      "cell_type": "markdown",
      "metadata": {
        "id": "qomzU8Qlxf1K"
      },
      "source": [
        "### **WITHOUT PYTHON PACKAGE**"
      ]
    },
    {
      "cell_type": "markdown",
      "metadata": {
        "id": "3nsMDlRV0WX_"
      },
      "source": [
        "### **Implementing the sigmoid function**"
      ]
    },
    {
      "cell_type": "code",
      "execution_count": 39,
      "metadata": {
        "id": "TPItof5A0SFn"
      },
      "outputs": [],
      "source": [
        "def sigmoid(z):\n",
        "    # calculate the sigmoid of z\n",
        "    h = 1 / (1 + np.exp(-z))\n",
        "    return h\n"
      ]
    },
    {
      "cell_type": "markdown",
      "metadata": {
        "id": "aI2xH9eb0qge"
      },
      "source": [
        "## **Implementing gradient descent function**"
      ]
    },
    {
      "cell_type": "code",
      "execution_count": 40,
      "metadata": {
        "id": "yUfPZBSx0uM8"
      },
      "outputs": [],
      "source": [
        "def gradientDescent(x, y, theta, alpha, num_iters):\n",
        "    # 'm', the number of rows in matrix x\n",
        "    m = len(x)\n",
        "\n",
        "    for i in range(0, num_iters):\n",
        "\n",
        "        # z, the dot product of x and theta\n",
        "        z = np.dot(x, theta)\n",
        "\n",
        "        # the sigmoid of z\n",
        "        h = sigmoid(z)\n",
        "\n",
        "        # calculating the cost function\n",
        "        J = (-1 / m) * (np.dot(y.T, np.log(h)) + np.dot((1 - y).T, np.log(1 - h)))\n",
        "\n",
        "        # updating the weights theta\n",
        "        theta = theta - (alpha / m) * (np.dot(x.T, (h - y)))\n",
        "    J = float(J)\n",
        "    return J, theta\n"
      ]
    },
    {
      "cell_type": "markdown",
      "metadata": {
        "id": "SZ38STrx6YJ4"
      },
      "source": [
        "### **TRAINING MODEL**"
      ]
    },
    {
      "cell_type": "code",
      "execution_count": 41,
      "metadata": {
        "colab": {
          "base_uri": "https://localhost:8080/"
        },
        "id": "GiN2rUN66TpP",
        "outputId": "82dc5292-86cf-4302-ad77-8d3265f2f51f"
      },
      "outputs": [
        {
          "name": "stdout",
          "output_type": "stream",
          "text": [
            "The cost after training is 0.24215478.\n",
            "The resulting vector of weights is [7e-08, 0.00052391, -0.00055517]\n"
          ]
        },
        {
          "name": "stderr",
          "output_type": "stream",
          "text": [
            "<ipython-input-40-3217d7e6f4b0>:18: DeprecationWarning: Conversion of an array with ndim > 0 to a scalar is deprecated, and will error in future. Ensure you extract a single element from your array before performing this operation. (Deprecated NumPy 1.25.)\n",
            "  J = float(J)\n"
          ]
        }
      ],
      "source": [
        "# collect the features 'x' and stack them into a matrix 'X'\n",
        "X = np.zeros((len(train_x), 3))\n",
        "for i in range(len(train_x)):\n",
        "    X[i, :]= extract_features(train_x[i], freqs)\n",
        "\n",
        "# training labels corresponding to X\n",
        "Y = train_y\n",
        "\n",
        "# Applying gradient descent\n",
        "J, theta = gradientDescent(X, Y, np.zeros((3, 1)), 1e-9, 1500)\n",
        "print(f\"The cost after training is {J:.8f}.\")\n",
        "print(f\"The resulting vector of weights is {[round(t, 8) for t in np.squeeze(theta)]}\")"
      ]
    },
    {
      "cell_type": "markdown",
      "metadata": {
        "id": "ZdgIwTtw7BIz"
      },
      "source": [
        "### **TESTING MODEL**\n",
        "*   Predict whether a tweet is positive or negative.\n",
        "*   Given a tweet, process it, then extract the features.\n",
        "*   Apply the model's learned weights on the features to get the logits.\n",
        "*   Apply the sigmoid to the logits to get the prediction (a value between 0 and 1)."
      ]
    },
    {
      "cell_type": "code",
      "execution_count": 42,
      "metadata": {
        "id": "I8ybD4GD61bJ"
      },
      "outputs": [],
      "source": [
        "def predict_tweet(tweet, freqs, theta):\n",
        "    # extract the features of the tweet and store it into x\n",
        "    x = extract_features(tweet, freqs)\n",
        "\n",
        "    # make the prediction using x and theta\n",
        "    y_pred = sigmoid(np.dot(x, theta))\n",
        "    return y_pred"
      ]
    },
    {
      "cell_type": "markdown",
      "metadata": {
        "id": "Xn_VXYHK7_VH"
      },
      "source": [
        "## **MODEL EVALUATION:**"
      ]
    },
    {
      "cell_type": "code",
      "execution_count": 43,
      "metadata": {
        "colab": {
          "base_uri": "https://localhost:8080/"
        },
        "id": "ygfpPA888iDl",
        "outputId": "08a244f9-0021-41df-ef40-3f316bf1284f"
      },
      "outputs": [
        {
          "name": "stdout",
          "output_type": "stream",
          "text": [
            "Logistic regression model's accuracy = 0.9950\n"
          ]
        }
      ],
      "source": [
        "def test_logistic_regression(test_x, test_y, freqs, theta):\n",
        "    # the list for storing predictions\n",
        "    y_hat = []\n",
        "\n",
        "    for tweet in test_x:\n",
        "        # getting the label prediction for the tweet\n",
        "        y_pred = predict_tweet(tweet, freqs, theta)\n",
        "\n",
        "        if y_pred > 0.5:\n",
        "            # appending 1.0 to the list\n",
        "            y_hat.append(1.0)\n",
        "        else:\n",
        "            # appending 0 to the list\n",
        "            y_hat.append(0.0)\n",
        "\n",
        "    # With the above implementation, y_hat is a list, but test_y is (m,1) array\n",
        "    # converting both to one-dimensional arrays in order to compare them using the '==' operator\n",
        "    accuracy = (np.asarray(y_hat) == np.squeeze(test_y)).sum() / len(test_x)\n",
        "    return accuracy\n",
        "tmp_accuracy = test_logistic_regression(test_x, test_y, freqs, theta)\n",
        "print(f\"Logistic regression model's accuracy = {tmp_accuracy:.4f}\")"
      ]
    },
    {
      "cell_type": "markdown",
      "metadata": {
        "id": "reIiu9pb_fx1"
      },
      "source": [
        "## **WITH PYTHON PACKAGE**\n"
      ]
    },
    {
      "cell_type": "code",
      "execution_count": 44,
      "metadata": {
        "id": "14TcNEqg4f82"
      },
      "outputs": [],
      "source": [
        "# collect the features 'x' and stack them into a matrix 'X'\n",
        "X = np.zeros((len(train_x), 3))\n",
        "for i in range(len(train_x)):\n",
        "    X[i, :]= extract_features(train_x[i], freqs)\n",
        "\n",
        "# training labels corresponding to X\n",
        "Y = train_y\n"
      ]
    },
    {
      "cell_type": "code",
      "execution_count": 45,
      "metadata": {
        "colab": {
          "base_uri": "https://localhost:8080/",
          "height": 129
        },
        "id": "hvEhPKdz4QCJ",
        "outputId": "f96d45f0-ef64-4c40-a672-f324a7fc5fd4"
      },
      "outputs": [
        {
          "name": "stderr",
          "output_type": "stream",
          "text": [
            "/usr/local/lib/python3.10/dist-packages/sklearn/utils/validation.py:1143: DataConversionWarning: A column-vector y was passed when a 1d array was expected. Please change the shape of y to (n_samples, ), for example using ravel().\n",
            "  y = column_or_1d(y, warn=True)\n"
          ]
        },
        {
          "data": {
            "text/html": [
              "<style>#sk-container-id-1 {color: black;background-color: white;}#sk-container-id-1 pre{padding: 0;}#sk-container-id-1 div.sk-toggleable {background-color: white;}#sk-container-id-1 label.sk-toggleable__label {cursor: pointer;display: block;width: 100%;margin-bottom: 0;padding: 0.3em;box-sizing: border-box;text-align: center;}#sk-container-id-1 label.sk-toggleable__label-arrow:before {content: \"▸\";float: left;margin-right: 0.25em;color: #696969;}#sk-container-id-1 label.sk-toggleable__label-arrow:hover:before {color: black;}#sk-container-id-1 div.sk-estimator:hover label.sk-toggleable__label-arrow:before {color: black;}#sk-container-id-1 div.sk-toggleable__content {max-height: 0;max-width: 0;overflow: hidden;text-align: left;background-color: #f0f8ff;}#sk-container-id-1 div.sk-toggleable__content pre {margin: 0.2em;color: black;border-radius: 0.25em;background-color: #f0f8ff;}#sk-container-id-1 input.sk-toggleable__control:checked~div.sk-toggleable__content {max-height: 200px;max-width: 100%;overflow: auto;}#sk-container-id-1 input.sk-toggleable__control:checked~label.sk-toggleable__label-arrow:before {content: \"▾\";}#sk-container-id-1 div.sk-estimator input.sk-toggleable__control:checked~label.sk-toggleable__label {background-color: #d4ebff;}#sk-container-id-1 div.sk-label input.sk-toggleable__control:checked~label.sk-toggleable__label {background-color: #d4ebff;}#sk-container-id-1 input.sk-hidden--visually {border: 0;clip: rect(1px 1px 1px 1px);clip: rect(1px, 1px, 1px, 1px);height: 1px;margin: -1px;overflow: hidden;padding: 0;position: absolute;width: 1px;}#sk-container-id-1 div.sk-estimator {font-family: monospace;background-color: #f0f8ff;border: 1px dotted black;border-radius: 0.25em;box-sizing: border-box;margin-bottom: 0.5em;}#sk-container-id-1 div.sk-estimator:hover {background-color: #d4ebff;}#sk-container-id-1 div.sk-parallel-item::after {content: \"\";width: 100%;border-bottom: 1px solid gray;flex-grow: 1;}#sk-container-id-1 div.sk-label:hover label.sk-toggleable__label {background-color: #d4ebff;}#sk-container-id-1 div.sk-serial::before {content: \"\";position: absolute;border-left: 1px solid gray;box-sizing: border-box;top: 0;bottom: 0;left: 50%;z-index: 0;}#sk-container-id-1 div.sk-serial {display: flex;flex-direction: column;align-items: center;background-color: white;padding-right: 0.2em;padding-left: 0.2em;position: relative;}#sk-container-id-1 div.sk-item {position: relative;z-index: 1;}#sk-container-id-1 div.sk-parallel {display: flex;align-items: stretch;justify-content: center;background-color: white;position: relative;}#sk-container-id-1 div.sk-item::before, #sk-container-id-1 div.sk-parallel-item::before {content: \"\";position: absolute;border-left: 1px solid gray;box-sizing: border-box;top: 0;bottom: 0;left: 50%;z-index: -1;}#sk-container-id-1 div.sk-parallel-item {display: flex;flex-direction: column;z-index: 1;position: relative;background-color: white;}#sk-container-id-1 div.sk-parallel-item:first-child::after {align-self: flex-end;width: 50%;}#sk-container-id-1 div.sk-parallel-item:last-child::after {align-self: flex-start;width: 50%;}#sk-container-id-1 div.sk-parallel-item:only-child::after {width: 0;}#sk-container-id-1 div.sk-dashed-wrapped {border: 1px dashed gray;margin: 0 0.4em 0.5em 0.4em;box-sizing: border-box;padding-bottom: 0.4em;background-color: white;}#sk-container-id-1 div.sk-label label {font-family: monospace;font-weight: bold;display: inline-block;line-height: 1.2em;}#sk-container-id-1 div.sk-label-container {text-align: center;}#sk-container-id-1 div.sk-container {/* jupyter's `normalize.less` sets `[hidden] { display: none; }` but bootstrap.min.css set `[hidden] { display: none !important; }` so we also need the `!important` here to be able to override the default hidden behavior on the sphinx rendered scikit-learn.org. See: https://github.com/scikit-learn/scikit-learn/issues/21755 */display: inline-block !important;position: relative;}#sk-container-id-1 div.sk-text-repr-fallback {display: none;}</style><div id=\"sk-container-id-1\" class=\"sk-top-container\"><div class=\"sk-text-repr-fallback\"><pre>LogisticRegression()</pre><b>In a Jupyter environment, please rerun this cell to show the HTML representation or trust the notebook. <br />On GitHub, the HTML representation is unable to render, please try loading this page with nbviewer.org.</b></div><div class=\"sk-container\" hidden><div class=\"sk-item\"><div class=\"sk-estimator sk-toggleable\"><input class=\"sk-toggleable__control sk-hidden--visually\" id=\"sk-estimator-id-1\" type=\"checkbox\" checked><label for=\"sk-estimator-id-1\" class=\"sk-toggleable__label sk-toggleable__label-arrow\">LogisticRegression</label><div class=\"sk-toggleable__content\"><pre>LogisticRegression()</pre></div></div></div></div></div>"
            ],
            "text/plain": [
              "LogisticRegression()"
            ]
          },
          "execution_count": 45,
          "metadata": {},
          "output_type": "execute_result"
        }
      ],
      "source": [
        "from sklearn.linear_model import LogisticRegression\n",
        "from sklearn.metrics import accuracy_score, classification_report\n",
        "log_reg = LogisticRegression()\n",
        "log_reg.fit(X,Y)\n"
      ]
    },
    {
      "cell_type": "markdown",
      "metadata": {
        "id": "WHQpS4uZBPGZ"
      },
      "source": [
        "## **MODEL EVALUATION:**"
      ]
    },
    {
      "cell_type": "code",
      "execution_count": 46,
      "metadata": {
        "id": "50wJfbcO-q4e"
      },
      "outputs": [],
      "source": [
        "Xtest = np.zeros((len(test_x), 3))\n",
        "for i in range(len(test_x)):\n",
        "    Xtest[i, :]= extract_features(test_x[i], freqs)\n",
        "\n",
        "# training labels corresponding to X\n",
        "Ytest = test_y"
      ]
    },
    {
      "cell_type": "code",
      "execution_count": 60,
      "metadata": {
        "colab": {
          "base_uri": "https://localhost:8080/"
        },
        "id": "Sg19KA839NK9",
        "outputId": "7d14b05e-0eb1-463c-bffe-3eb84c0a4853"
      },
      "outputs": [
        {
          "name": "stdout",
          "output_type": "stream",
          "text": [
            "Accuracy: 0.991500\n",
            "              precision    recall  f1-score   support\n",
            "\n",
            "         0.0       0.99      0.99      0.99      1000\n",
            "         1.0       0.99      0.99      0.99      1000\n",
            "\n",
            "    accuracy                           0.99      2000\n",
            "   macro avg       0.99      0.99      0.99      2000\n",
            "weighted avg       0.99      0.99      0.99      2000\n",
            "\n"
          ]
        }
      ],
      "source": [
        "# Predict sentiment labels for test data\n",
        "y_pred = log_reg.predict(Xtest)\n",
        "\n",
        "# Calculate accuracy\n",
        "accuracy = accuracy_score(Ytest, y_pred)\n",
        "print(f'Accuracy: {accuracy:.6f}')\n",
        "\n",
        "# Classification report\n",
        "print(classification_report(Ytest, y_pred))\n"
      ]
    },
    {
      "cell_type": "markdown",
      "metadata": {
        "id": "vWUdnCOjBZGp"
      },
      "source": [
        "Both implementations are giving high accuracy of 0.99, which is very good"
      ]
    },
    {
      "cell_type": "markdown",
      "metadata": {
        "id": "7zDzoDooD1A6"
      },
      "source": [
        "# **NAIVE BAYES FOR SENTIMENT ANALYSIS**\n",
        "Now we will be using Naive Bayes for sentiment analysis on tweets.Naive bayes is an algorithm that could be used for sentiment analysis. It takes a short time to train and also has a short prediction time."
      ]
    },
    {
      "cell_type": "markdown",
      "metadata": {
        "id": "Ou_GVB2V-Hpl"
      },
      "source": [
        "## **WITHOUT PYTHON PACKAGE**\n"
      ]
    },
    {
      "cell_type": "markdown",
      "metadata": {
        "id": "WcToDoD2-uMJ"
      },
      "source": [
        "### **lookup()**\n",
        "We will implement a lookup()function that takes in the freqs dictionary, a word, and a label (1 or 0) and returns the number of times that word and label tuple appears in the collection of tweets.\n",
        "\n",
        "For example: given a list of tweets [\"i am rather excited\", \"you are rather happy\"] and the label 1, the function will return a dictionary that contains the following key-value pairs:\n",
        "\n",
        "{ (\"rather\", 1): 2 (\"happi\", 1) : 1 (\"excit\", 1) : 1 }"
      ]
    },
    {
      "cell_type": "code",
      "execution_count": 48,
      "metadata": {
        "id": "imx7wWNO-XO0"
      },
      "outputs": [],
      "source": [
        "def lookup(freqs, word, label):\n",
        "    n = 0  # freqs.get((word, label), 0)\n",
        "\n",
        "    pair = (word, label)\n",
        "    if (pair in freqs):\n",
        "        n = freqs[pair]\n",
        "\n",
        "    return n"
      ]
    },
    {
      "cell_type": "code",
      "execution_count": 49,
      "metadata": {
        "colab": {
          "base_uri": "https://localhost:8080/"
        },
        "id": "ZztyWhwyBYoR",
        "outputId": "1e167629-f8fb-45a6-b39d-c66a7b6de08a"
      },
      "outputs": [
        {
          "name": "stdout",
          "output_type": "stream",
          "text": [
            "0.0\n",
            "9085\n"
          ]
        }
      ],
      "source": [
        "def train_naive_bayes(freqs, train_x, train_y):\n",
        "    loglikelihood = {}\n",
        "    logprior = 0\n",
        "    # V is the number of unique words in the vocabulary\n",
        "    vocab = set([pair[0] for pair in freqs.keys()])\n",
        "    V = len(vocab)\n",
        "\n",
        "    # calculate N_pos and N_neg\n",
        "    N_pos = N_neg = 0\n",
        "    for pair in freqs.keys():\n",
        "        # if the label is positive (greater than zero)\n",
        "        if pair[1] > 0:\n",
        "\n",
        "            # Increment the number of positive words by the count for this (word, label) pair\n",
        "            N_pos += freqs[pair]\n",
        "\n",
        "        # else, the label is negative\n",
        "        else:\n",
        "\n",
        "            # increment the number of negative words by the count for this (word,label) pair\n",
        "            N_neg += freqs[pair]\n",
        "\n",
        "    #D: the number of documents\n",
        "    D = len(train_y)\n",
        "\n",
        "    #D_pos: the number of positive documents \n",
        "    D_pos = len(list(filter(lambda x: x > 0, train_y)))\n",
        "\n",
        "    #D_neg, the number of negative documents \n",
        "    D_neg = len(list(filter(lambda x: x <= 0, train_y)))\n",
        "    logprior = np.log(D_pos) - np.log(D_neg)\n",
        "\n",
        "    # For each word in the vocabulary...\n",
        "    for word in vocab:\n",
        "        # get the positive and negative frequency of the word\n",
        "        freq_pos = lookup(freqs, word, 1)\n",
        "        freq_neg = lookup(freqs, word, 0)\n",
        "\n",
        "        #the probability that each word is positive, and negative\n",
        "        p_w_pos = (freq_pos + 1) / (N_pos + V)\n",
        "        p_w_neg = (freq_neg + 1) / (N_neg + V)\n",
        "\n",
        "        #the log likelihood of the word\n",
        "        loglikelihood[word] = np.log(p_w_pos / p_w_neg)\n",
        "\n",
        "\n",
        "    return logprior, loglikelihood\n",
        "\n",
        "logprior, loglikelihood = train_naive_bayes(freqs, train_x, train_y)\n",
        "print(logprior)\n",
        "print(len(loglikelihood))\n"
      ]
    },
    {
      "cell_type": "markdown",
      "metadata": {
        "id": "Qca79406AdV3"
      },
      "source": [
        "### **naive_bayes_predict**\n",
        "*   The function takes in the tweet, logprior, loglikelihood.\n",
        "*   It returns the probability that the tweet belongs to the positive or negative class.\n",
        "*   For each tweet, sum up loglikelihoods of each word in the tweet.\n",
        "*   Also add the logprior to this sum to get the predicted sentiment of that tweet.\n"
      ]
    },
    {
      "cell_type": "code",
      "execution_count": 50,
      "metadata": {
        "colab": {
          "base_uri": "https://localhost:8080/"
        },
        "id": "o2B_LbPCLn9v",
        "outputId": "a0fa97e9-2495-42e6-9fe4-33370a385a84"
      },
      "outputs": [
        {
          "name": "stdout",
          "output_type": "stream",
          "text": [
            "The expected output is 1.5737244858565678\n"
          ]
        }
      ],
      "source": [
        "\n",
        "def naive_bayes_predict(tweet, logprior, loglikelihood):\n",
        "    \n",
        "    # process the tweet to get a list of words\n",
        "    word_l = process_tweet(tweet)\n",
        "\n",
        "    # initialize probability to zero\n",
        "    p = 0\n",
        "\n",
        "    # add the logprior\n",
        "    p += logprior\n",
        "\n",
        "    for word in word_l:\n",
        "\n",
        "        # check if the word exists in the loglikelihood dictionary\n",
        "        if word in loglikelihood:\n",
        "            # add the log likelihood of that word to the probability\n",
        "            p += loglikelihood[word]\n",
        "\n",
        "\n",
        "    return p\n",
        "\n",
        "my_tweet = 'She smiled.'\n",
        "p = naive_bayes_predict(my_tweet, logprior, loglikelihood)\n",
        "print('The expected output is', p)"
      ]
    },
    {
      "cell_type": "markdown",
      "metadata": {
        "id": "yvqv9eqtGdRN"
      },
      "source": [
        "### **test_naive_bayes()**\n",
        "test_naive_bayes is to check the accuracy of our predictions.\n",
        "*   The function takes in our test_x, test_y, log_prior, and loglikelihood\n",
        "*   It returns the accuracy of our model.\n",
        "*   First,  we will use naive_bayes_predict function to make predictions for each tweet in test_x.\n"
      ]
    },
    {
      "cell_type": "code",
      "execution_count": 51,
      "metadata": {
        "id": "Rq2VsiSOGcs8"
      },
      "outputs": [],
      "source": [
        "def test_naive_bayes(test_x, test_y, logprior, loglikelihood, naive_bayes_predict=naive_bayes_predict):\n",
        "   \n",
        "    accuracy = 0  \n",
        "   \n",
        "    y_hats = []\n",
        "    for tweet in test_x:\n",
        "        # if the prediction is > 0\n",
        "        if naive_bayes_predict(tweet, logprior, loglikelihood) > 0:\n",
        "            # the predicted class is 1\n",
        "            y_hat_i = 1\n",
        "        else:\n",
        "            # otherwise the predicted class is 0\n",
        "            y_hat_i = 0\n",
        "\n",
        "        # append the predicted class to the list y_hats\n",
        "        y_hats.append(y_hat_i)\n",
        "\n",
        "    # error is the average of the absolute values of the differences between y_hats and test_y\n",
        "    error = np.mean(np.absolute(y_hats-test_y))\n",
        "    accuracy = 1-error\n",
        "    return accuracy\n"
      ]
    },
    {
      "cell_type": "code",
      "execution_count": 52,
      "metadata": {
        "id": "BOxsNxD9MdWo"
      },
      "outputs": [],
      "source": [
        "# get the sets of positive and negative tweets\n",
        "all_positive_tweets = twitter_samples.strings('positive_tweets.json')\n",
        "all_negative_tweets = twitter_samples.strings('negative_tweets.json')\n",
        "\n",
        "# split the data into two pieces, one for training and one for testing (validation set)\n",
        "test_pos = all_positive_tweets[4000:]\n",
        "train_pos = all_positive_tweets[:4000]\n",
        "test_neg = all_negative_tweets[4000:]\n",
        "train_neg = all_negative_tweets[:4000]\n",
        "\n",
        "train_x = train_pos + train_neg\n",
        "test_x = test_pos + test_neg\n",
        "\n",
        "# avoid assumptions about the length of all_positive_tweets\n",
        "train_y = np.append(np.ones(len(train_pos)), np.zeros(len(train_neg)))\n",
        "test_y = np.append(np.ones(len(test_pos)), np.zeros(len(test_neg)))"
      ]
    },
    {
      "cell_type": "code",
      "execution_count": 53,
      "metadata": {
        "colab": {
          "base_uri": "https://localhost:8080/"
        },
        "id": "R8g74c00JHEg",
        "outputId": "93653951-03b0-43ab-c4c1-e8faa15dbd34"
      },
      "outputs": [
        {
          "name": "stdout",
          "output_type": "stream",
          "text": [
            "Naive Bayes accuracy = 0.9940\n"
          ]
        }
      ],
      "source": [
        "print(\"Naive Bayes accuracy = %0.4f\" %\n",
        "      (test_naive_bayes(test_x, test_y, logprior, loglikelihood)))"
      ]
    },
    {
      "cell_type": "markdown",
      "metadata": {
        "id": "eNpfYDfyOPsu"
      },
      "source": [
        "## **Error Analysis**\n",
        "In this part we will see some tweets that our model missclassified."
      ]
    },
    {
      "cell_type": "code",
      "execution_count": 54,
      "metadata": {
        "colab": {
          "base_uri": "https://localhost:8080/"
        },
        "id": "spbOSuuEOQDD",
        "outputId": "6464e217-3a06-4db8-f9bb-960305717eae"
      },
      "outputs": [
        {
          "name": "stdout",
          "output_type": "stream",
          "text": [
            "Truth Predicted Tweet\n",
            "1\t0.00\tb''\n",
            "1\t0.00\tb'truli later move know queen bee upward bound movingonup'\n",
            "1\t0.00\tb'new report talk burn calori cold work harder warm feel better weather :p'\n",
            "1\t0.00\tb'harri niall 94 harri born ik stupid wanna chang :d'\n",
            "1\t0.00\tb''\n",
            "1\t0.00\tb''\n",
            "1\t0.00\tb'park get sunlight'\n",
            "1\t0.00\tb'uff itna miss karhi thi ap :p'\n",
            "0\t1.00\tb'hello info possibl interest jonatha close join beti :( great'\n",
            "0\t1.00\tb'u prob fun david'\n",
            "0\t1.00\tb'pat jay'\n",
            "0\t1.00\tb'whatev stil l young >:-('\n"
          ]
        }
      ],
      "source": [
        "# error analysis\n",
        "print('Truth Predicted Tweet')\n",
        "for x, y in zip(test_x, test_y):\n",
        "    y_hat = naive_bayes_predict(x, logprior, loglikelihood)\n",
        "    if y != (np.sign(y_hat) > 0):\n",
        "        print('%d\\t%0.2f\\t%s' % (y, np.sign(y_hat) > 0, ' '.join(\n",
        "            process_tweet(x)).encode('ascii', 'ignore')))"
      ]
    },
    {
      "cell_type": "markdown",
      "metadata": {
        "id": "cm_e8a_WOrKC"
      },
      "source": [
        "## **Predicting our own tweet**\n",
        "In this part we can predict the sentiment of our own tweet."
      ]
    },
    {
      "cell_type": "code",
      "execution_count": 55,
      "metadata": {
        "colab": {
          "base_uri": "https://localhost:8080/"
        },
        "id": "uXt8MXSYOovX",
        "outputId": "776ba053-cb1b-49b6-fcd6-2778fecafd94"
      },
      "outputs": [
        {
          "name": "stdout",
          "output_type": "stream",
          "text": [
            "9.57385883169329\n"
          ]
        }
      ],
      "source": [
        "my_tweet = 'I am happy because I am learning :)'\n",
        "\n",
        "p = naive_bayes_predict(my_tweet, logprior, loglikelihood)\n",
        "print(p)"
      ]
    },
    {
      "cell_type": "markdown",
      "metadata": {
        "id": "iMwRFztAP1g7"
      },
      "source": [
        "## **WITH PYTHON PACKAGE IMPLEMENTATION**"
      ]
    },
    {
      "cell_type": "code",
      "execution_count": 56,
      "metadata": {
        "id": "_xsISimoURzV"
      },
      "outputs": [],
      "source": [
        "Xtest = np.zeros((len(test_x), 3))\n",
        "for i in range(len(test_x)):\n",
        "    Xtest[i, :]= extract_features(test_x[i], freqs)\n",
        "\n",
        "# training labels corresponding to X\n",
        "Ytest = test_y"
      ]
    },
    {
      "cell_type": "code",
      "execution_count": 57,
      "metadata": {
        "id": "h2nHJ9TpUSjP"
      },
      "outputs": [],
      "source": [
        "Xtrain = np.zeros((len(train_x), 3))\n",
        "for i in range(len(train_x)):\n",
        "    Xtrain[i, :]= extract_features(train_x[i], freqs)\n",
        "\n",
        "# training labels corresponding to X\n",
        "Ytrain = train_y"
      ]
    },
    {
      "cell_type": "code",
      "execution_count": 58,
      "metadata": {
        "id": "QDhjcoyRV_7Z"
      },
      "outputs": [],
      "source": [
        "from sklearn.naive_bayes import MultinomialNB\n",
        "from sklearn.metrics import accuracy_score, classification_report\n",
        "\n",
        "\n",
        "# Initialize Naive Bayes classifier\n",
        "naive_bayes = MultinomialNB()\n",
        "\n",
        "# Train the model\n",
        "naive_bayes.fit(Xtrain, Ytrain)\n",
        "\n",
        "# Predict sentiment labels for test data\n",
        "y_pred = naive_bayes.predict(Xtest)\n"
      ]
    },
    {
      "cell_type": "markdown",
      "metadata": {
        "id": "3l75g1S4swnG"
      },
      "source": [
        "## **MODAL EVALUATION**"
      ]
    },
    {
      "cell_type": "code",
      "execution_count": 59,
      "metadata": {
        "colab": {
          "base_uri": "https://localhost:8080/"
        },
        "id": "uR33zffTsvpY",
        "outputId": "9a648cd5-9870-4df7-f739-55232fc5452d"
      },
      "outputs": [
        {
          "name": "stdout",
          "output_type": "stream",
          "text": [
            "Accuracy: 0.995000\n",
            "              precision    recall  f1-score   support\n",
            "\n",
            "         0.0       1.00      0.99      0.99      1000\n",
            "         1.0       0.99      1.00      1.00      1000\n",
            "\n",
            "    accuracy                           0.99      2000\n",
            "   macro avg       1.00      0.99      0.99      2000\n",
            "weighted avg       1.00      0.99      0.99      2000\n",
            "\n"
          ]
        }
      ],
      "source": [
        "\n",
        "# Calculate accuracy\n",
        "accuracy = accuracy_score(Ytest, y_pred)\n",
        "print(f'Accuracy: {accuracy:.6f}')\n",
        "\n",
        "# Classification report\n",
        "print(classification_report(Ytest, y_pred))\n"
      ]
    },
    {
      "cell_type": "markdown",
      "metadata": {
        "id": "aRQZZkRyyqVm"
      },
      "source": [
        "# **SUMMARY**\n",
        "\n",
        "### **Logistic Regression Model:**\n",
        "- **Accuracy:** 0.9915\n",
        "- **Precision, Recall, F1-score:**\n",
        "  - Class 0 (negative sentiment): Precision = 0.99, Recall = 0.99, F1-score = 0.99\n",
        "  - Class 1 (positive sentiment): Precision = 0.99, Recall = 0.99, F1-score = 0.99\n",
        "- **Insights:** The logistic regression model achieves high accuracy and balanced performance across both classes. It shows robustness in predicting both positive and negative sentiments with equally high precision, recall, and F1-score.\n",
        "\n",
        "### **Naive Bayes Model:**\n",
        "- **Accuracy:** 0.9950\n",
        "- **Precision, Recall, F1-score:**\n",
        "  - Class 0 (negative sentiment): Precision = 1.00, Recall = 0.99, F1-score = 0.99\n",
        "  - Class 1 (positive sentiment): Precision = 0.99, Recall = 1.00, F1-score = 1.00\n",
        "- **Insights:** The naive Bayes model performs slightly better than logistic regression, especially in terms of precision for class 0 (negative sentiment) and recall for class 1 (positive sentiment). It achieves high accuracy and near-perfect F1-scores due to its assumption of feature independence.\n",
        "\n",
        "###**Comparison and Recommendations:**\n",
        "- Both models perform exceptionally well with accuracies above 99%, indicating strong predictive power for sentiment analysis.\n",
        "- Naive Bayes shows a slight edge in performance metrics, likely due to its simplicity and the assumption of feature independence, which might align well with the nature of tweet sentiment analysis where words often appear independently.It takes a short time to train and also has a short prediction time.\n",
        "- **Limitations:**\n",
        "  - Naive Bayes assumes feature independence, which might not hold true in all cases, especially with complex language patterns in tweets.\n",
        "  - Both models might struggle with sarcasm, irony, or nuanced sentiments that require deeper contextual understanding.\n",
        "  - Imbalanced datasets or specific linguistic styles could impact model performance.\n",
        "  \n",
        "### Suggestions for Improvements:\n",
        "- **Feature Engineering:** Explore more sophisticated text preprocessing techniques, such as handling emojis, slang, or special characters, to enhance model understanding of informal language.\n",
        "- **Model Selection:** Consider ensemble methods like Random Forests or Gradient Boosting, which can capture nonlinear relationships and dependencies in the data better than Naive Bayes or logistic regression.\n",
        "- **Contextual Embeddings:** Utilize pre-trained word embeddings (e.g., Word2Vec, GloVe) or contextual embeddings (e.g., BERT, GPT) to capture richer semantic meanings and contextual dependencies in tweets.\n",
        "- **Fine-tuning:** Experiment with hyperparameter tuning for both models to optimize performance further, ensuring robustness across different evaluation metrics.\n",
        "\n",
        "### Conclusion:\n",
        "In conclusion, both logistic regression and naive Bayes models demonstrate strong performance in sentiment analysis of tweets, achieving high accuracies and balanced metrics across classes. Naive Bayes, with its simplicity and effective handling of independent features, slightly outperforms logistic regression in this context. However, improvements can be made by considering more advanced models and enhancing feature engineering techniques to better capture the nuances of tweet sentiment."
      ]
    }
  ],
  "metadata": {
    "colab": {
      "provenance": []
    },
    "kernelspec": {
      "display_name": "Python 3",
      "name": "python3"
    },
    "language_info": {
      "name": "python"
    }
  },
  "nbformat": 4,
  "nbformat_minor": 0
}
